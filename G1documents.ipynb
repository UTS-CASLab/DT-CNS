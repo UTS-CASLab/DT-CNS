{
 "cells": [
  {
   "cell_type": "markdown",
   "metadata": {},
   "source": [
    "# DTCNS package and its quick start in Generation 1"
   ]
  },
  {
   "cell_type": "markdown",
   "metadata": {},
   "source": [
    "**Generation 1 (G1)** of DT-CNSs models dynamic process on static networks. **DTCNS** package can generate DT-CNSs in **G1** based on five modules, including **Feature**, **SocialDNA**, **Network**, **EpiCondition** and **Process**. \n",
    "\n",
    "+ **Feature** module enables the crisp representation of specific numerical features and the fuzzy representation of uncertain numerical features. \n",
    "\n",
    "+ **SocialDNA** module reserves the node's preferences for features and feature differences. \n",
    "\n",
    "+ **Network** module can generate social networks based on features and preferences. \n",
    "\n",
    "+ **EpiCondition** module calculates the nodes' adoptability (liability) to the spread (e.g. epidemic spread). \n",
    "\n",
    "+ **Process** module simulates the dynamic process that starts from a seed node given a specific transmissibility.\n",
    "\n",
    "**In this document, we use a toy example to illustrate the functionalities of each module. Assuming five nodes who interact based on the preference for connecting with others ......**"
   ]
  },
  {
   "cell_type": "code",
   "execution_count": 1,
   "metadata": {},
   "outputs": [],
   "source": [
    "from DTCNS.Network import Network,SocialDNA\n",
    "from DTCNS.Feature import Feature\n",
    "from DTCNS.Process import Process\n",
    "import pandas as pd\n",
    "import numpy as np"
   ]
  },
  {
   "cell_type": "markdown",
   "metadata": {},
   "source": [
    "# A. Feature Representation"
   ]
  },
  {
   "cell_type": "markdown",
   "metadata": {},
   "source": [
    "We assume five nodes who interact based on the preference for connecting with others. These nodes consider the features of other nodes and the feature differences with other nodes. For example, we simulate two features for these nodes, including age and sex."
   ]
  },
  {
   "cell_type": "code",
   "execution_count": 2,
   "metadata": {},
   "outputs": [
    {
     "data": {
      "text/html": [
       "<div>\n",
       "<style scoped>\n",
       "    .dataframe tbody tr th:only-of-type {\n",
       "        vertical-align: middle;\n",
       "    }\n",
       "\n",
       "    .dataframe tbody tr th {\n",
       "        vertical-align: top;\n",
       "    }\n",
       "\n",
       "    .dataframe thead th {\n",
       "        text-align: right;\n",
       "    }\n",
       "</style>\n",
       "<table border=\"1\" class=\"dataframe\">\n",
       "  <thead>\n",
       "    <tr style=\"text-align: right;\">\n",
       "      <th></th>\n",
       "      <th>Age</th>\n",
       "      <th>Sex</th>\n",
       "    </tr>\n",
       "  </thead>\n",
       "  <tbody>\n",
       "    <tr>\n",
       "      <th>0</th>\n",
       "      <td>15</td>\n",
       "      <td>0</td>\n",
       "    </tr>\n",
       "    <tr>\n",
       "      <th>1</th>\n",
       "      <td>21</td>\n",
       "      <td>1</td>\n",
       "    </tr>\n",
       "    <tr>\n",
       "      <th>2</th>\n",
       "      <td>36</td>\n",
       "      <td>1</td>\n",
       "    </tr>\n",
       "    <tr>\n",
       "      <th>3</th>\n",
       "      <td>51</td>\n",
       "      <td>0</td>\n",
       "    </tr>\n",
       "    <tr>\n",
       "      <th>4</th>\n",
       "      <td>63</td>\n",
       "      <td>1</td>\n",
       "    </tr>\n",
       "  </tbody>\n",
       "</table>\n",
       "</div>"
      ],
      "text/plain": [
       "   Age  Sex\n",
       "0   15    0\n",
       "1   21    1\n",
       "2   36    1\n",
       "3   51    0\n",
       "4   63    1"
      ]
     },
     "execution_count": 2,
     "metadata": {},
     "output_type": "execute_result"
    }
   ],
   "source": [
    "AgeSexData = pd.DataFrame(columns = [\"Age\",\"Sex\"])\n",
    "AgeSexData[\"Sex\"] = [0,1,1,0,1] # 1 and 0 each represents males and females.\n",
    "AgeSexData[\"Age\"] = [15,21,36,51,63]\n",
    "AgeSexData"
   ]
  },
  {
   "cell_type": "markdown",
   "metadata": {},
   "source": [
    "### A1. Crisp Representation of Age and Sex"
   ]
  },
  {
   "cell_type": "markdown",
   "metadata": {},
   "source": [
    "When the nodes can observe the age and sex features and know the specific feature values, we can represent the features based on crisp representation principles. \n",
    "\n",
    "+ **Feature.CrispRepresentation( )** standardises the numerical feature values into the range [0,1] and stores the crisp representation of features (stored in **Feature.feature**) and feature differences (stored in **Feature.featureDifferenceDict**). "
   ]
  },
  {
   "cell_type": "code",
   "execution_count": 3,
   "metadata": {},
   "outputs": [],
   "source": [
    "AgeSexFeatures = Feature(AgeSexData)\n",
    "AgeSexFeatures.CrispRepresentation()"
   ]
  },
  {
   "cell_type": "markdown",
   "metadata": {},
   "source": [
    "The nodes are denoted as 0, 1, 2, 3, 4 and reserved in a list."
   ]
  },
  {
   "cell_type": "code",
   "execution_count": 4,
   "metadata": {},
   "outputs": [
    {
     "data": {
      "text/plain": [
       "[0, 1, 2, 3, 4]"
      ]
     },
     "execution_count": 4,
     "metadata": {},
     "output_type": "execute_result"
    }
   ],
   "source": [
    "AgeSexFeatures.nodes"
   ]
  },
  {
   "cell_type": "code",
   "execution_count": 5,
   "metadata": {},
   "outputs": [
    {
     "data": {
      "text/html": [
       "<div>\n",
       "<style scoped>\n",
       "    .dataframe tbody tr th:only-of-type {\n",
       "        vertical-align: middle;\n",
       "    }\n",
       "\n",
       "    .dataframe tbody tr th {\n",
       "        vertical-align: top;\n",
       "    }\n",
       "\n",
       "    .dataframe thead th {\n",
       "        text-align: right;\n",
       "    }\n",
       "</style>\n",
       "<table border=\"1\" class=\"dataframe\">\n",
       "  <thead>\n",
       "    <tr style=\"text-align: right;\">\n",
       "      <th></th>\n",
       "      <th>Age</th>\n",
       "      <th>Sex</th>\n",
       "    </tr>\n",
       "  </thead>\n",
       "  <tbody>\n",
       "    <tr>\n",
       "      <th>0</th>\n",
       "      <td>0.0000</td>\n",
       "      <td>0.0</td>\n",
       "    </tr>\n",
       "    <tr>\n",
       "      <th>1</th>\n",
       "      <td>0.1250</td>\n",
       "      <td>1.0</td>\n",
       "    </tr>\n",
       "    <tr>\n",
       "      <th>2</th>\n",
       "      <td>0.4375</td>\n",
       "      <td>1.0</td>\n",
       "    </tr>\n",
       "    <tr>\n",
       "      <th>3</th>\n",
       "      <td>0.7500</td>\n",
       "      <td>0.0</td>\n",
       "    </tr>\n",
       "    <tr>\n",
       "      <th>4</th>\n",
       "      <td>1.0000</td>\n",
       "      <td>1.0</td>\n",
       "    </tr>\n",
       "  </tbody>\n",
       "</table>\n",
       "</div>"
      ],
      "text/plain": [
       "      Age  Sex\n",
       "0  0.0000  0.0\n",
       "1  0.1250  1.0\n",
       "2  0.4375  1.0\n",
       "3  0.7500  0.0\n",
       "4  1.0000  1.0"
      ]
     },
     "execution_count": 5,
     "metadata": {},
     "output_type": "execute_result"
    }
   ],
   "source": [
    "AgeSexFeatures.feature"
   ]
  },
  {
   "cell_type": "markdown",
   "metadata": {},
   "source": [
    "In the feature difference dictionary, we can find the feature differences between any focal node (e.g. node denoted as 3) and other nodes."
   ]
  },
  {
   "cell_type": "code",
   "execution_count": 6,
   "metadata": {
    "scrolled": true
   },
   "outputs": [
    {
     "data": {
      "text/html": [
       "<div>\n",
       "<style scoped>\n",
       "    .dataframe tbody tr th:only-of-type {\n",
       "        vertical-align: middle;\n",
       "    }\n",
       "\n",
       "    .dataframe tbody tr th {\n",
       "        vertical-align: top;\n",
       "    }\n",
       "\n",
       "    .dataframe thead th {\n",
       "        text-align: right;\n",
       "    }\n",
       "</style>\n",
       "<table border=\"1\" class=\"dataframe\">\n",
       "  <thead>\n",
       "    <tr style=\"text-align: right;\">\n",
       "      <th></th>\n",
       "      <th>Age Difference</th>\n",
       "      <th>Sex Difference</th>\n",
       "    </tr>\n",
       "  </thead>\n",
       "  <tbody>\n",
       "    <tr>\n",
       "      <th>0</th>\n",
       "      <td>0.7500</td>\n",
       "      <td>0.0</td>\n",
       "    </tr>\n",
       "    <tr>\n",
       "      <th>1</th>\n",
       "      <td>0.6250</td>\n",
       "      <td>1.0</td>\n",
       "    </tr>\n",
       "    <tr>\n",
       "      <th>2</th>\n",
       "      <td>0.3125</td>\n",
       "      <td>1.0</td>\n",
       "    </tr>\n",
       "    <tr>\n",
       "      <th>3</th>\n",
       "      <td>0.0000</td>\n",
       "      <td>0.0</td>\n",
       "    </tr>\n",
       "    <tr>\n",
       "      <th>4</th>\n",
       "      <td>0.2500</td>\n",
       "      <td>1.0</td>\n",
       "    </tr>\n",
       "  </tbody>\n",
       "</table>\n",
       "</div>"
      ],
      "text/plain": [
       "   Age Difference  Sex Difference\n",
       "0          0.7500             0.0\n",
       "1          0.6250             1.0\n",
       "2          0.3125             1.0\n",
       "3          0.0000             0.0\n",
       "4          0.2500             1.0"
      ]
     },
     "execution_count": 6,
     "metadata": {},
     "output_type": "execute_result"
    }
   ],
   "source": [
    "AgeSexFeatures.featureDifferenceDict[3]"
   ]
  },
  {
   "cell_type": "markdown",
   "metadata": {},
   "source": [
    "### A2. Fuzzy Representation of Age"
   ]
  },
  {
   "cell_type": "markdown",
   "metadata": {},
   "source": [
    "When the nodes are uncertain about the age and the age difference, we can represent the age feature based on fuzzy representation principles. \n",
    "\n",
    "+ **Feature.FuzzyRepresentation( )** unfolds a single numerical feature (feature difference) into a series of membership values that range between [0,1]. This function builds fuzzy sets for the feature and the feature difference based on Gaussian Membership functions. It requires initialising the number of fuzzy sets and the corresponding Gaussian Membership functions."
   ]
  },
  {
   "cell_type": "code",
   "execution_count": 7,
   "metadata": {},
   "outputs": [],
   "source": [
    "AgeData = pd.DataFrame(columns=[\"Age\"])\n",
    "AgeData[\"Age\"] = [15,21,36,51,63]"
   ]
  },
  {
   "cell_type": "markdown",
   "metadata": {},
   "source": [
    "We initialise three fuzzy sets to represent the age feature, each focusing on the ages around 15, 30 and 60. The sigma values control the spread of fuzzy sets and are set as 5, which, based on the Gaussian Membership function, generally capture the age characteristics around the ranges of [12-3 * 5,12+3 * 5], [35-3 * 5,35+3 * 5] and [60-3 * 5,60+3 * 5]."
   ]
  },
  {
   "cell_type": "code",
   "execution_count": 8,
   "metadata": {},
   "outputs": [
    {
     "data": {
      "text/plain": [
       "{'Age':    mu  sigma\n",
       " 0  15      5\n",
       " 1  30      5\n",
       " 2  60      5}"
      ]
     },
     "execution_count": 8,
     "metadata": {},
     "output_type": "execute_result"
    }
   ],
   "source": [
    "NumFuzzyPdict = {\"Age\":3}\n",
    "FuzzyPparams = pd.DataFrame(columns=[\"mu\",\"sigma\"])\n",
    "FuzzyPparams[\"mu\"] = [15,30,60]\n",
    "FuzzyPparams[\"sigma\"] =[5,5,5]\n",
    "FuzzyPparamsDict = {\"Age\":FuzzyPparams}\n",
    "\n",
    "FuzzyPparamsDict"
   ]
  },
  {
   "cell_type": "markdown",
   "metadata": {},
   "source": [
    "Similarly, we initialise four fuzzy sets to represent the age differences around 0 and 12."
   ]
  },
  {
   "cell_type": "code",
   "execution_count": 9,
   "metadata": {},
   "outputs": [
    {
     "data": {
      "text/plain": [
       "{'Age':    mu  sigma\n",
       " 0   0      5\n",
       " 1  12      5}"
      ]
     },
     "execution_count": 9,
     "metadata": {},
     "output_type": "execute_result"
    }
   ],
   "source": [
    "NumFuzzyHdict = {\"Age\":2}\n",
    "FuzzyHparams = pd.DataFrame(columns=[\"mu\",\"sigma\"])\n",
    "FuzzyHparams[\"mu\"] = [0,12]\n",
    "FuzzyHparams[\"sigma\"] =[5,5]\n",
    "FuzzyHparamsDict = {\"Age\":FuzzyHparams}\n",
    "\n",
    "FuzzyHparamsDict"
   ]
  },
  {
   "cell_type": "markdown",
   "metadata": {},
   "source": [
    "We can represent uncertain age features and age differences based on the set-ups of fuzzy sets."
   ]
  },
  {
   "cell_type": "code",
   "execution_count": 10,
   "metadata": {},
   "outputs": [],
   "source": [
    "AgeFeatures = Feature(AgeData)\n",
    "AgeFeatures.FuzzyRepresentation(\n",
    "    NumFuzzyPdict = NumFuzzyPdict,\n",
    "    NumFuzzyHdict = NumFuzzyHdict,\n",
    "    minValue = {\"Age\":0},# default: minimum feature values.\n",
    "    maxValue = {\"Age\":70}, #default: maximum feature values.\n",
    "    minDiffValue = {\"Age\":0}, # default: minimum feature differences with the focal node and others\n",
    "    maxDiffValue = {\"Age\":70},# default: maximum feature differences with the focal node and others\n",
    "    FuzzyPparamsDict = FuzzyPparamsDict,#default:mu values evenly split feature value range; sigma value is 5.\n",
    "    FuzzyHparamsDict = FuzzyHparamsDict#default:mu values evenly split feature difference range; sigma value is 5.\n",
    "                    )"
   ]
  },
  {
   "cell_type": "markdown",
   "metadata": {},
   "source": [
    "The age feature is unfolded into three features, which indicate the memberships of an age value for the corresponding fuzzy set."
   ]
  },
  {
   "cell_type": "code",
   "execution_count": 11,
   "metadata": {},
   "outputs": [
    {
     "data": {
      "text/html": [
       "<div>\n",
       "<style scoped>\n",
       "    .dataframe tbody tr th:only-of-type {\n",
       "        vertical-align: middle;\n",
       "    }\n",
       "\n",
       "    .dataframe tbody tr th {\n",
       "        vertical-align: top;\n",
       "    }\n",
       "\n",
       "    .dataframe thead th {\n",
       "        text-align: right;\n",
       "    }\n",
       "</style>\n",
       "<table border=\"1\" class=\"dataframe\">\n",
       "  <thead>\n",
       "    <tr style=\"text-align: right;\">\n",
       "      <th></th>\n",
       "      <th>Age-Fuzzy0</th>\n",
       "      <th>Age-Fuzzy1</th>\n",
       "      <th>Age-Fuzzy2</th>\n",
       "    </tr>\n",
       "  </thead>\n",
       "  <tbody>\n",
       "    <tr>\n",
       "      <th>0</th>\n",
       "      <td>1.000000e+00</td>\n",
       "      <td>1.110900e-02</td>\n",
       "      <td>2.576757e-18</td>\n",
       "    </tr>\n",
       "    <tr>\n",
       "      <th>1</th>\n",
       "      <td>4.867523e-01</td>\n",
       "      <td>1.978987e-01</td>\n",
       "      <td>6.148396e-14</td>\n",
       "    </tr>\n",
       "    <tr>\n",
       "      <th>2</th>\n",
       "      <td>1.477484e-04</td>\n",
       "      <td>4.867523e-01</td>\n",
       "      <td>9.929504e-06</td>\n",
       "    </tr>\n",
       "    <tr>\n",
       "      <th>3</th>\n",
       "      <td>5.534610e-12</td>\n",
       "      <td>1.477484e-04</td>\n",
       "      <td>1.978987e-01</td>\n",
       "    </tr>\n",
       "    <tr>\n",
       "      <th>4</th>\n",
       "      <td>9.720985e-21</td>\n",
       "      <td>3.475891e-10</td>\n",
       "      <td>8.352702e-01</td>\n",
       "    </tr>\n",
       "  </tbody>\n",
       "</table>\n",
       "</div>"
      ],
      "text/plain": [
       "     Age-Fuzzy0    Age-Fuzzy1    Age-Fuzzy2\n",
       "0  1.000000e+00  1.110900e-02  2.576757e-18\n",
       "1  4.867523e-01  1.978987e-01  6.148396e-14\n",
       "2  1.477484e-04  4.867523e-01  9.929504e-06\n",
       "3  5.534610e-12  1.477484e-04  1.978987e-01\n",
       "4  9.720985e-21  3.475891e-10  8.352702e-01"
      ]
     },
     "execution_count": 11,
     "metadata": {},
     "output_type": "execute_result"
    }
   ],
   "source": [
    "AgeFeatures.feature"
   ]
  },
  {
   "cell_type": "markdown",
   "metadata": {},
   "source": [
    "Similarly, the age difference between the nodes can be unfolded into two membership values."
   ]
  },
  {
   "cell_type": "code",
   "execution_count": 12,
   "metadata": {},
   "outputs": [
    {
     "data": {
      "text/html": [
       "<div>\n",
       "<style scoped>\n",
       "    .dataframe tbody tr th:only-of-type {\n",
       "        vertical-align: middle;\n",
       "    }\n",
       "\n",
       "    .dataframe tbody tr th {\n",
       "        vertical-align: top;\n",
       "    }\n",
       "\n",
       "    .dataframe thead th {\n",
       "        text-align: right;\n",
       "    }\n",
       "</style>\n",
       "<table border=\"1\" class=\"dataframe\">\n",
       "  <thead>\n",
       "    <tr style=\"text-align: right;\">\n",
       "      <th></th>\n",
       "      <th>Age Difference-Fuzzy0</th>\n",
       "      <th>Age Difference-Fuzzy1</th>\n",
       "    </tr>\n",
       "  </thead>\n",
       "  <tbody>\n",
       "    <tr>\n",
       "      <th>0</th>\n",
       "      <td>5.534610e-12</td>\n",
       "      <td>0.000010</td>\n",
       "    </tr>\n",
       "    <tr>\n",
       "      <th>1</th>\n",
       "      <td>1.522998e-08</td>\n",
       "      <td>0.001534</td>\n",
       "    </tr>\n",
       "    <tr>\n",
       "      <th>2</th>\n",
       "      <td>1.110900e-02</td>\n",
       "      <td>0.835270</td>\n",
       "    </tr>\n",
       "    <tr>\n",
       "      <th>3</th>\n",
       "      <td>1.000000e+00</td>\n",
       "      <td>0.056135</td>\n",
       "    </tr>\n",
       "    <tr>\n",
       "      <th>4</th>\n",
       "      <td>5.613476e-02</td>\n",
       "      <td>1.000000</td>\n",
       "    </tr>\n",
       "  </tbody>\n",
       "</table>\n",
       "</div>"
      ],
      "text/plain": [
       "   Age Difference-Fuzzy0  Age Difference-Fuzzy1\n",
       "0           5.534610e-12               0.000010\n",
       "1           1.522998e-08               0.001534\n",
       "2           1.110900e-02               0.835270\n",
       "3           1.000000e+00               0.056135\n",
       "4           5.613476e-02               1.000000"
      ]
     },
     "execution_count": 12,
     "metadata": {},
     "output_type": "execute_result"
    }
   ],
   "source": [
    "AgeFeatures.featureDifferenceDict[3]"
   ]
  },
  {
   "cell_type": "markdown",
   "metadata": {},
   "source": [
    "### A3.Feature Update"
   ]
  },
  {
   "cell_type": "markdown",
   "metadata": {},
   "source": [
    "We replace the previous crisp representation of age in age and sex feature representations with the fuzzy representation of age. \n",
    "\n",
    "+ **Feature.FeatureUpdate( )** function updates a feature object with new features."
   ]
  },
  {
   "cell_type": "code",
   "execution_count": 13,
   "metadata": {},
   "outputs": [],
   "source": [
    "AgeSexFeatures.FeatureUpdate(AgeFeatures,ReplaceFeatures=[\"Age\"])"
   ]
  },
  {
   "cell_type": "code",
   "execution_count": 14,
   "metadata": {},
   "outputs": [
    {
     "data": {
      "text/html": [
       "<div>\n",
       "<style scoped>\n",
       "    .dataframe tbody tr th:only-of-type {\n",
       "        vertical-align: middle;\n",
       "    }\n",
       "\n",
       "    .dataframe tbody tr th {\n",
       "        vertical-align: top;\n",
       "    }\n",
       "\n",
       "    .dataframe thead th {\n",
       "        text-align: right;\n",
       "    }\n",
       "</style>\n",
       "<table border=\"1\" class=\"dataframe\">\n",
       "  <thead>\n",
       "    <tr style=\"text-align: right;\">\n",
       "      <th></th>\n",
       "      <th>Sex</th>\n",
       "      <th>Age-Fuzzy0</th>\n",
       "      <th>Age-Fuzzy1</th>\n",
       "      <th>Age-Fuzzy2</th>\n",
       "    </tr>\n",
       "  </thead>\n",
       "  <tbody>\n",
       "    <tr>\n",
       "      <th>0</th>\n",
       "      <td>0.0</td>\n",
       "      <td>1.000000e+00</td>\n",
       "      <td>1.110900e-02</td>\n",
       "      <td>2.576757e-18</td>\n",
       "    </tr>\n",
       "    <tr>\n",
       "      <th>1</th>\n",
       "      <td>1.0</td>\n",
       "      <td>4.867523e-01</td>\n",
       "      <td>1.978987e-01</td>\n",
       "      <td>6.148396e-14</td>\n",
       "    </tr>\n",
       "    <tr>\n",
       "      <th>2</th>\n",
       "      <td>1.0</td>\n",
       "      <td>1.477484e-04</td>\n",
       "      <td>4.867523e-01</td>\n",
       "      <td>9.929504e-06</td>\n",
       "    </tr>\n",
       "    <tr>\n",
       "      <th>3</th>\n",
       "      <td>0.0</td>\n",
       "      <td>5.534610e-12</td>\n",
       "      <td>1.477484e-04</td>\n",
       "      <td>1.978987e-01</td>\n",
       "    </tr>\n",
       "    <tr>\n",
       "      <th>4</th>\n",
       "      <td>1.0</td>\n",
       "      <td>9.720985e-21</td>\n",
       "      <td>3.475891e-10</td>\n",
       "      <td>8.352702e-01</td>\n",
       "    </tr>\n",
       "  </tbody>\n",
       "</table>\n",
       "</div>"
      ],
      "text/plain": [
       "   Sex    Age-Fuzzy0    Age-Fuzzy1    Age-Fuzzy2\n",
       "0  0.0  1.000000e+00  1.110900e-02  2.576757e-18\n",
       "1  1.0  4.867523e-01  1.978987e-01  6.148396e-14\n",
       "2  1.0  1.477484e-04  4.867523e-01  9.929504e-06\n",
       "3  0.0  5.534610e-12  1.477484e-04  1.978987e-01\n",
       "4  1.0  9.720985e-21  3.475891e-10  8.352702e-01"
      ]
     },
     "execution_count": 14,
     "metadata": {},
     "output_type": "execute_result"
    }
   ],
   "source": [
    "AgeSexFeatures.feature"
   ]
  },
  {
   "cell_type": "code",
   "execution_count": 15,
   "metadata": {},
   "outputs": [
    {
     "data": {
      "text/html": [
       "<div>\n",
       "<style scoped>\n",
       "    .dataframe tbody tr th:only-of-type {\n",
       "        vertical-align: middle;\n",
       "    }\n",
       "\n",
       "    .dataframe tbody tr th {\n",
       "        vertical-align: top;\n",
       "    }\n",
       "\n",
       "    .dataframe thead th {\n",
       "        text-align: right;\n",
       "    }\n",
       "</style>\n",
       "<table border=\"1\" class=\"dataframe\">\n",
       "  <thead>\n",
       "    <tr style=\"text-align: right;\">\n",
       "      <th></th>\n",
       "      <th>Sex Difference</th>\n",
       "      <th>Age Difference-Fuzzy0</th>\n",
       "      <th>Age Difference-Fuzzy1</th>\n",
       "    </tr>\n",
       "  </thead>\n",
       "  <tbody>\n",
       "    <tr>\n",
       "      <th>0</th>\n",
       "      <td>1.0</td>\n",
       "      <td>1.477484e-04</td>\n",
       "      <td>0.197899</td>\n",
       "    </tr>\n",
       "    <tr>\n",
       "      <th>1</th>\n",
       "      <td>0.0</td>\n",
       "      <td>1.110900e-02</td>\n",
       "      <td>0.835270</td>\n",
       "    </tr>\n",
       "    <tr>\n",
       "      <th>2</th>\n",
       "      <td>0.0</td>\n",
       "      <td>1.000000e+00</td>\n",
       "      <td>0.056135</td>\n",
       "    </tr>\n",
       "    <tr>\n",
       "      <th>3</th>\n",
       "      <td>1.0</td>\n",
       "      <td>1.110900e-02</td>\n",
       "      <td>0.835270</td>\n",
       "    </tr>\n",
       "    <tr>\n",
       "      <th>4</th>\n",
       "      <td>0.0</td>\n",
       "      <td>4.655716e-07</td>\n",
       "      <td>0.011109</td>\n",
       "    </tr>\n",
       "  </tbody>\n",
       "</table>\n",
       "</div>"
      ],
      "text/plain": [
       "   Sex Difference  Age Difference-Fuzzy0  Age Difference-Fuzzy1\n",
       "0             1.0           1.477484e-04               0.197899\n",
       "1             0.0           1.110900e-02               0.835270\n",
       "2             0.0           1.000000e+00               0.056135\n",
       "3             1.0           1.110900e-02               0.835270\n",
       "4             0.0           4.655716e-07               0.011109"
      ]
     },
     "execution_count": 15,
     "metadata": {},
     "output_type": "execute_result"
    }
   ],
   "source": [
    "AgeSexFeatures.featureDifferenceDict[2]"
   ]
  },
  {
   "cell_type": "markdown",
   "metadata": {},
   "source": [
    "## B. Preference Representation"
   ]
  },
  {
   "cell_type": "markdown",
   "metadata": {},
   "source": [
    "Considering the age and sex representations, we set up the related preferences and weights of preferences. \n",
    "\n",
    "+ **SocialDNA( )** module incorporates the preference for features (**pDNA**) and the preference for feature differences (**hDNA**), together with their respective weights of preference (**hWeight** and **pWeight**). **hDNA** and **hWeight** ( **pDNA** and **pWeight**) are stored in data frames and take the same format as the features (feature differences). The preference **pDNA** and **hDNA** take binary values at 1 and -1, each indicating negative and positive preferences. The preference weights **hWeight** and **pWeight** take numerical values between 0 and 1. "
   ]
  },
  {
   "cell_type": "code",
   "execution_count": 16,
   "metadata": {},
   "outputs": [],
   "source": [
    "pDNA = pd.DataFrame(np.ones([AgeSexFeatures.numNodes,AgeSexFeatures.numFeatures]),\n",
    "                    columns = AgeSexFeatures.feature.columns)\n",
    "\n",
    "pWeight = pd.DataFrame(np.ones([AgeSexFeatures.numNodes,AgeSexFeatures.numFeatures]),\n",
    "                       columns = AgeSexFeatures.feature.columns)\n",
    "\n",
    "hDNA = pd.DataFrame(-np.ones([AgeSexFeatures.numNodes,AgeSexFeatures.numFeatureDifferences]),\n",
    "                    columns = AgeSexFeatures.featureDifferenceDict[0].columns)\n",
    "\n",
    "hWeight = pd.DataFrame(np.ones([AgeSexFeatures.numNodes,AgeSexFeatures.numFeatureDifferences]),\n",
    "                       columns =AgeSexFeatures.featureDifferenceDict[0].columns)"
   ]
  },
  {
   "cell_type": "code",
   "execution_count": 17,
   "metadata": {},
   "outputs": [],
   "source": [
    "myDNA = SocialDNA(AgeSexFeatures,\n",
    "                  hDNA = hDNA,\n",
    "                  pDNA = pDNA, \n",
    "                  hWeight = hWeight,# default value: weights at one for all feature differences and nodes\n",
    "                  pWeight = pWeight# default value: weights at one for all features and nodes\n",
    "                 )"
   ]
  },
  {
   "cell_type": "markdown",
   "metadata": {},
   "source": [
    "The nodes' preferences for feature differences can be represented as follows (for node 0, 1, 2, 3 and 4): "
   ]
  },
  {
   "cell_type": "code",
   "execution_count": 18,
   "metadata": {},
   "outputs": [
    {
     "data": {
      "text/html": [
       "<div>\n",
       "<style scoped>\n",
       "    .dataframe tbody tr th:only-of-type {\n",
       "        vertical-align: middle;\n",
       "    }\n",
       "\n",
       "    .dataframe tbody tr th {\n",
       "        vertical-align: top;\n",
       "    }\n",
       "\n",
       "    .dataframe thead th {\n",
       "        text-align: right;\n",
       "    }\n",
       "</style>\n",
       "<table border=\"1\" class=\"dataframe\">\n",
       "  <thead>\n",
       "    <tr style=\"text-align: right;\">\n",
       "      <th></th>\n",
       "      <th>Sex Difference</th>\n",
       "      <th>Age Difference-Fuzzy0</th>\n",
       "      <th>Age Difference-Fuzzy1</th>\n",
       "    </tr>\n",
       "  </thead>\n",
       "  <tbody>\n",
       "    <tr>\n",
       "      <th>0</th>\n",
       "      <td>-1.0</td>\n",
       "      <td>-1.0</td>\n",
       "      <td>-1.0</td>\n",
       "    </tr>\n",
       "    <tr>\n",
       "      <th>1</th>\n",
       "      <td>-1.0</td>\n",
       "      <td>-1.0</td>\n",
       "      <td>-1.0</td>\n",
       "    </tr>\n",
       "    <tr>\n",
       "      <th>2</th>\n",
       "      <td>-1.0</td>\n",
       "      <td>-1.0</td>\n",
       "      <td>-1.0</td>\n",
       "    </tr>\n",
       "    <tr>\n",
       "      <th>3</th>\n",
       "      <td>-1.0</td>\n",
       "      <td>-1.0</td>\n",
       "      <td>-1.0</td>\n",
       "    </tr>\n",
       "    <tr>\n",
       "      <th>4</th>\n",
       "      <td>-1.0</td>\n",
       "      <td>-1.0</td>\n",
       "      <td>-1.0</td>\n",
       "    </tr>\n",
       "  </tbody>\n",
       "</table>\n",
       "</div>"
      ],
      "text/plain": [
       "   Sex Difference  Age Difference-Fuzzy0  Age Difference-Fuzzy1\n",
       "0            -1.0                   -1.0                   -1.0\n",
       "1            -1.0                   -1.0                   -1.0\n",
       "2            -1.0                   -1.0                   -1.0\n",
       "3            -1.0                   -1.0                   -1.0\n",
       "4            -1.0                   -1.0                   -1.0"
      ]
     },
     "execution_count": 18,
     "metadata": {},
     "output_type": "execute_result"
    }
   ],
   "source": [
    "myDNA.hDNA"
   ]
  },
  {
   "cell_type": "markdown",
   "metadata": {},
   "source": [
    "The corresponding weights of preferences for feature differences:"
   ]
  },
  {
   "cell_type": "code",
   "execution_count": 19,
   "metadata": {},
   "outputs": [
    {
     "data": {
      "text/html": [
       "<div>\n",
       "<style scoped>\n",
       "    .dataframe tbody tr th:only-of-type {\n",
       "        vertical-align: middle;\n",
       "    }\n",
       "\n",
       "    .dataframe tbody tr th {\n",
       "        vertical-align: top;\n",
       "    }\n",
       "\n",
       "    .dataframe thead th {\n",
       "        text-align: right;\n",
       "    }\n",
       "</style>\n",
       "<table border=\"1\" class=\"dataframe\">\n",
       "  <thead>\n",
       "    <tr style=\"text-align: right;\">\n",
       "      <th></th>\n",
       "      <th>Sex Difference</th>\n",
       "      <th>Age Difference-Fuzzy0</th>\n",
       "      <th>Age Difference-Fuzzy1</th>\n",
       "    </tr>\n",
       "  </thead>\n",
       "  <tbody>\n",
       "    <tr>\n",
       "      <th>0</th>\n",
       "      <td>1.0</td>\n",
       "      <td>1.0</td>\n",
       "      <td>1.0</td>\n",
       "    </tr>\n",
       "    <tr>\n",
       "      <th>1</th>\n",
       "      <td>1.0</td>\n",
       "      <td>1.0</td>\n",
       "      <td>1.0</td>\n",
       "    </tr>\n",
       "    <tr>\n",
       "      <th>2</th>\n",
       "      <td>1.0</td>\n",
       "      <td>1.0</td>\n",
       "      <td>1.0</td>\n",
       "    </tr>\n",
       "    <tr>\n",
       "      <th>3</th>\n",
       "      <td>1.0</td>\n",
       "      <td>1.0</td>\n",
       "      <td>1.0</td>\n",
       "    </tr>\n",
       "    <tr>\n",
       "      <th>4</th>\n",
       "      <td>1.0</td>\n",
       "      <td>1.0</td>\n",
       "      <td>1.0</td>\n",
       "    </tr>\n",
       "  </tbody>\n",
       "</table>\n",
       "</div>"
      ],
      "text/plain": [
       "   Sex Difference  Age Difference-Fuzzy0  Age Difference-Fuzzy1\n",
       "0             1.0                    1.0                    1.0\n",
       "1             1.0                    1.0                    1.0\n",
       "2             1.0                    1.0                    1.0\n",
       "3             1.0                    1.0                    1.0\n",
       "4             1.0                    1.0                    1.0"
      ]
     },
     "execution_count": 19,
     "metadata": {},
     "output_type": "execute_result"
    }
   ],
   "source": [
    "myDNA.hWeight"
   ]
  },
  {
   "cell_type": "markdown",
   "metadata": {},
   "source": [
    "The nodes' preferences for features can be represented as follows (for node 0, 1, 2, 3 and 4): "
   ]
  },
  {
   "cell_type": "code",
   "execution_count": 20,
   "metadata": {},
   "outputs": [
    {
     "data": {
      "text/html": [
       "<div>\n",
       "<style scoped>\n",
       "    .dataframe tbody tr th:only-of-type {\n",
       "        vertical-align: middle;\n",
       "    }\n",
       "\n",
       "    .dataframe tbody tr th {\n",
       "        vertical-align: top;\n",
       "    }\n",
       "\n",
       "    .dataframe thead th {\n",
       "        text-align: right;\n",
       "    }\n",
       "</style>\n",
       "<table border=\"1\" class=\"dataframe\">\n",
       "  <thead>\n",
       "    <tr style=\"text-align: right;\">\n",
       "      <th></th>\n",
       "      <th>Sex</th>\n",
       "      <th>Age-Fuzzy0</th>\n",
       "      <th>Age-Fuzzy1</th>\n",
       "      <th>Age-Fuzzy2</th>\n",
       "    </tr>\n",
       "  </thead>\n",
       "  <tbody>\n",
       "    <tr>\n",
       "      <th>0</th>\n",
       "      <td>1.0</td>\n",
       "      <td>1.0</td>\n",
       "      <td>1.0</td>\n",
       "      <td>1.0</td>\n",
       "    </tr>\n",
       "    <tr>\n",
       "      <th>1</th>\n",
       "      <td>1.0</td>\n",
       "      <td>1.0</td>\n",
       "      <td>1.0</td>\n",
       "      <td>1.0</td>\n",
       "    </tr>\n",
       "    <tr>\n",
       "      <th>2</th>\n",
       "      <td>1.0</td>\n",
       "      <td>1.0</td>\n",
       "      <td>1.0</td>\n",
       "      <td>1.0</td>\n",
       "    </tr>\n",
       "    <tr>\n",
       "      <th>3</th>\n",
       "      <td>1.0</td>\n",
       "      <td>1.0</td>\n",
       "      <td>1.0</td>\n",
       "      <td>1.0</td>\n",
       "    </tr>\n",
       "    <tr>\n",
       "      <th>4</th>\n",
       "      <td>1.0</td>\n",
       "      <td>1.0</td>\n",
       "      <td>1.0</td>\n",
       "      <td>1.0</td>\n",
       "    </tr>\n",
       "  </tbody>\n",
       "</table>\n",
       "</div>"
      ],
      "text/plain": [
       "   Sex  Age-Fuzzy0  Age-Fuzzy1  Age-Fuzzy2\n",
       "0  1.0         1.0         1.0         1.0\n",
       "1  1.0         1.0         1.0         1.0\n",
       "2  1.0         1.0         1.0         1.0\n",
       "3  1.0         1.0         1.0         1.0\n",
       "4  1.0         1.0         1.0         1.0"
      ]
     },
     "execution_count": 20,
     "metadata": {},
     "output_type": "execute_result"
    }
   ],
   "source": [
    "myDNA.pDNA"
   ]
  },
  {
   "cell_type": "markdown",
   "metadata": {},
   "source": [
    "The corresponding weights of preferences for features:"
   ]
  },
  {
   "cell_type": "code",
   "execution_count": 21,
   "metadata": {},
   "outputs": [
    {
     "data": {
      "text/html": [
       "<div>\n",
       "<style scoped>\n",
       "    .dataframe tbody tr th:only-of-type {\n",
       "        vertical-align: middle;\n",
       "    }\n",
       "\n",
       "    .dataframe tbody tr th {\n",
       "        vertical-align: top;\n",
       "    }\n",
       "\n",
       "    .dataframe thead th {\n",
       "        text-align: right;\n",
       "    }\n",
       "</style>\n",
       "<table border=\"1\" class=\"dataframe\">\n",
       "  <thead>\n",
       "    <tr style=\"text-align: right;\">\n",
       "      <th></th>\n",
       "      <th>Sex</th>\n",
       "      <th>Age-Fuzzy0</th>\n",
       "      <th>Age-Fuzzy1</th>\n",
       "      <th>Age-Fuzzy2</th>\n",
       "    </tr>\n",
       "  </thead>\n",
       "  <tbody>\n",
       "    <tr>\n",
       "      <th>0</th>\n",
       "      <td>1.0</td>\n",
       "      <td>1.0</td>\n",
       "      <td>1.0</td>\n",
       "      <td>1.0</td>\n",
       "    </tr>\n",
       "    <tr>\n",
       "      <th>1</th>\n",
       "      <td>1.0</td>\n",
       "      <td>1.0</td>\n",
       "      <td>1.0</td>\n",
       "      <td>1.0</td>\n",
       "    </tr>\n",
       "    <tr>\n",
       "      <th>2</th>\n",
       "      <td>1.0</td>\n",
       "      <td>1.0</td>\n",
       "      <td>1.0</td>\n",
       "      <td>1.0</td>\n",
       "    </tr>\n",
       "    <tr>\n",
       "      <th>3</th>\n",
       "      <td>1.0</td>\n",
       "      <td>1.0</td>\n",
       "      <td>1.0</td>\n",
       "      <td>1.0</td>\n",
       "    </tr>\n",
       "    <tr>\n",
       "      <th>4</th>\n",
       "      <td>1.0</td>\n",
       "      <td>1.0</td>\n",
       "      <td>1.0</td>\n",
       "      <td>1.0</td>\n",
       "    </tr>\n",
       "  </tbody>\n",
       "</table>\n",
       "</div>"
      ],
      "text/plain": [
       "   Sex  Age-Fuzzy0  Age-Fuzzy1  Age-Fuzzy2\n",
       "0  1.0         1.0         1.0         1.0\n",
       "1  1.0         1.0         1.0         1.0\n",
       "2  1.0         1.0         1.0         1.0\n",
       "3  1.0         1.0         1.0         1.0\n",
       "4  1.0         1.0         1.0         1.0"
      ]
     },
     "execution_count": 21,
     "metadata": {},
     "output_type": "execute_result"
    }
   ],
   "source": [
    "myDNA.pWeight"
   ]
  },
  {
   "cell_type": "markdown",
   "metadata": {},
   "source": [
    "## C. Network Formation"
   ]
  },
  {
   "cell_type": "markdown",
   "metadata": {},
   "source": [
    "We can simulate an undirected static network based on the feature representations and preferences.\n",
    "\n",
    "+ **Network** requires the essential information for network generation. In addition to features and preferences, we can set up an encounter rate (**encounterRate**) that describes the probability of encountering another node, the number of edges (**NumEdge**), an interaction cost (**InteractionCost**) between 0 and 1 that determines the edge number and the random interference that is generated from a normal distribution N(0,**randomInterference^2**). The random interference ranges in (0, 0.1)\n",
    "\n",
    "+ **Network.Formation(randomseed)** function generates an undirected network snapshot. We can reproduce the same network by setting up the random seed **randomseed**.\n",
    "\n",
    "+ **Network.writeHistory(saveDir)** function saves the preferences and the graph to the path **saveDir**.\n",
    "\n",
    "+ **Please note that we can only set one of these variables: NumEdge** and **InteractionCost** to determine the edge number."
   ]
  },
  {
   "cell_type": "code",
   "execution_count": 22,
   "metadata": {},
   "outputs": [],
   "source": [
    "myNetwork = Network(Feature = AgeSexFeatures,\n",
    "                    socialDNA = myDNA,\n",
    "                    encounterRate = 0.8,\n",
    "                    NumEdge =  3, \n",
    "                    InteractionCost = None, \n",
    "                    randomInterference = 0.005\n",
    "                   )\n",
    "    "
   ]
  },
  {
   "cell_type": "code",
   "execution_count": 23,
   "metadata": {},
   "outputs": [],
   "source": [
    "myNetwork.Formation(randomseed=112)"
   ]
  },
  {
   "cell_type": "markdown",
   "metadata": {},
   "source": [
    "The generated network:"
   ]
  },
  {
   "cell_type": "code",
   "execution_count": 24,
   "metadata": {},
   "outputs": [
    {
     "data": {
      "text/plain": [
       "<networkx.classes.graph.Graph at 0x7fe5824e9e50>"
      ]
     },
     "execution_count": 24,
     "metadata": {},
     "output_type": "execute_result"
    }
   ],
   "source": [
    "myNetwork.Graph"
   ]
  },
  {
   "cell_type": "code",
   "execution_count": 25,
   "metadata": {},
   "outputs": [
    {
     "data": {
      "image/png": "[encoded data removed]",
      "text/plain": [
       "<Figure size 432x288 with 1 Axes>"
      ]
     },
     "metadata": {},
     "output_type": "display_data"
    }
   ],
   "source": [
    "import networkx as nx \n",
    "nx.draw(myNetwork.Graph, pos = nx.circular_layout(myNetwork.Graph),with_labels=True)"
   ]
  },
  {
   "cell_type": "markdown",
   "metadata": {},
   "source": [
    "The edges:"
   ]
  },
  {
   "cell_type": "code",
   "execution_count": 26,
   "metadata": {},
   "outputs": [
    {
     "data": {
      "text/plain": [
       "EdgeView([(0, 3), (1, 4), (2, 4)])"
      ]
     },
     "execution_count": 26,
     "metadata": {},
     "output_type": "execute_result"
    }
   ],
   "source": [
    "myNetwork.Graph.edges()"
   ]
  },
  {
   "cell_type": "markdown",
   "metadata": {},
   "source": [
    "To save the network and the preference inforamtion:"
   ]
  },
  {
   "cell_type": "code",
   "execution_count": 27,
   "metadata": {},
   "outputs": [],
   "source": [
    "myNetwork.writeHistory(\"Data\")"
   ]
  },
  {
   "cell_type": "markdown",
   "metadata": {},
   "source": [
    "## D. EpiCondition"
   ]
  },
  {
   "cell_type": "markdown",
   "metadata": {},
   "source": [
    "**Please note that DTCNS package is under active development. EpiCondition module will soon be public.**"
   ]
  },
  {
   "cell_type": "markdown",
   "metadata": {},
   "source": [
    "## E. Process"
   ]
  },
  {
   "cell_type": "markdown",
   "metadata": {},
   "source": [
    "We assume an epidemic spread on the simulated social network from the seed node 0. \n",
    "\n",
    "+ **Process** simulates the dynamic process on social networks. It is initialised with the node number **numNodes**, a set of seed nodes **infectedSet**, an infection rate **infectionRate** and a recovery rate **recoveryRate**."
   ]
  },
  {
   "cell_type": "code",
   "execution_count": 28,
   "metadata": {},
   "outputs": [],
   "source": [
    "epiProcess = Process(numNodes=5,\n",
    "                     infectedSet={0},\n",
    "                     infectionRate=0.2,\n",
    "                     recoveryRate=0.2\n",
    "                    )"
   ]
  },
  {
   "cell_type": "markdown",
   "metadata": {},
   "source": [
    "We set a random seed 112 and allow the process to propagate one step."
   ]
  },
  {
   "cell_type": "code",
   "execution_count": 29,
   "metadata": {},
   "outputs": [],
   "source": [
    "epiProcess.spread(myNetwork.Graph,\n",
    "       randomseed = 112,\n",
    "       spreadStep = 1)"
   ]
  },
  {
   "cell_type": "markdown",
   "metadata": {},
   "source": [
    "The infected node set after spreading process can be represented as:"
   ]
  },
  {
   "cell_type": "code",
   "execution_count": 30,
   "metadata": {},
   "outputs": [
    {
     "data": {
      "text/plain": [
       "{0, 3}"
      ]
     },
     "execution_count": 30,
     "metadata": {},
     "output_type": "execute_result"
    }
   ],
   "source": [
    "epiProcess.infectedSet"
   ]
  },
  {
   "cell_type": "markdown",
   "metadata": {},
   "source": [
    "The infected nodes recover given a recovery rate of 0.2."
   ]
  },
  {
   "cell_type": "code",
   "execution_count": 31,
   "metadata": {},
   "outputs": [],
   "source": [
    "epiProcess.recover(myNetwork.Graph,\n",
    "       randomseed = 112,\n",
    "       recoverStep = 1)"
   ]
  },
  {
   "cell_type": "markdown",
   "metadata": {},
   "source": [
    "The infected node set after recovery process can be represented as:"
   ]
  },
  {
   "cell_type": "code",
   "execution_count": 32,
   "metadata": {},
   "outputs": [
    {
     "data": {
      "text/plain": [
       "{0}"
      ]
     },
     "execution_count": 32,
     "metadata": {},
     "output_type": "execute_result"
    }
   ],
   "source": [
    "epiProcess.infectedSet"
   ]
  },
  {
   "cell_type": "markdown",
   "metadata": {},
   "source": [
    "To save the information concernning the epidemic spreading process:"
   ]
  },
  {
   "cell_type": "code",
   "execution_count": 33,
   "metadata": {},
   "outputs": [],
   "source": [
    "epiProcess.writeHistory(saveDir=\"Data\",recoveryRecord=True,spreadRecord=True)"
   ]
  },
  {
   "cell_type": "markdown",
   "metadata": {},
   "source": [
    "## References"
   ]
  },
  {
   "cell_type": "markdown",
   "metadata": {},
   "source": [
    "<div id=\"refer-anchor-1\"></div>\n",
    "- [1] Wen, Jiaqi, Bogdan Gabrys, and Katarzyna Musial. \"Digital Twin-Oriented Complex Networked Systems based on Heterogeneous node features and interaction rules.\" arXiv preprint arXiv:2308.11034 (2023).\n",
    "\n",
    "<div id=\"refer-anchor-2\"></div>\n",
    "- [2] Wen, Jiaqi, Bogdan Gabrys, and Katarzyna Musial. \"Review and Assessment of Digital Twin--Oriented Social Network Simulators.\" arXiv preprint arXiv:2308.11034 (2023)."
   ]
  }
 ],
 "metadata": {
  "kernelspec": {
   "display_name": "Python 3",
   "language": "python",
   "name": "python3"
  },
  "language_info": {
   "codemirror_mode": {
    "name": "ipython",
    "version": 3
   },
   "file_extension": ".py",
   "mimetype": "text/x-python",
   "name": "python",
   "nbconvert_exporter": "python",
   "pygments_lexer": "ipython3",
   "version": "3.8.5"
  }
 },
 "nbformat": 4,
 "nbformat_minor": 4
}
